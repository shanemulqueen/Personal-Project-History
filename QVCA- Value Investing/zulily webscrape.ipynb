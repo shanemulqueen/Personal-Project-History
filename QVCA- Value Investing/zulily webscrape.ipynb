{
 "cells": [
  {
   "cell_type": "markdown",
   "metadata": {},
   "source": [
    "This code no longer works very well- they added some bot detection and will have a captcha show up after a few runs. "
   ]
  },
  {
   "cell_type": "code",
   "execution_count": null,
   "metadata": {},
   "outputs": [],
   "source": [
    "from lxml import html\n",
    "import requests\n",
    "import pandas\n",
    "import bs4\n",
    "import urllib\n",
    "import html5lib\n",
    "from contextlib import closing\n",
    "from urllib2 import urlopen\n",
    "from splinter import Browser"
   ]
  },
  {
   "cell_type": "code",
   "execution_count": null,
   "metadata": {},
   "outputs": [],
   "source": [
    "br = Browser('chrome')\n",
    "br.visit('http://www.zulily.com')"
   ]
  },
  {
   "cell_type": "code",
   "execution_count": null,
   "metadata": {},
   "outputs": [],
   "source": [
    "br.find_by_css('#loginModal > div.modal-dialog.login.open > div > div.modal-header > div.register-footer.step1 > a').click()\n",
    "username2='login here'\n",
    "password='password here'\n",
    "br.find_by_id('signin_email').first.fill(username2)\n",
    "br.find_by_id('signin_password').first.fill(password)\n",
    "br.find_by_css('#loginForm > div.clearfix > button').click()"
   ]
  },
  {
   "cell_type": "code",
   "execution_count": null,
   "metadata": {},
   "outputs": [],
   "source": [
    "br.find_by_id('signin_email').first.fill(username2)\n",
    "br.find_by_id('signin_password').first.fill(password)\n",
    "br.find_by_css('#loginForm > div.clearfix > button').click()"
   ]
  },
  {
   "cell_type": "code",
   "execution_count": null,
   "metadata": {},
   "outputs": [],
   "source": [
    "#make list of category urls\n",
    "cat_list = ['https://www.zulily.com/girls/?ref=header']\n",
    "cat_list.append('https://www.zulily.com/boys/?ref=header')\n",
    "cat_list.append('https://www.zulily.com/women/?ref=header')\n",
    "cat_list.append('https://www.zulily.com/womens-plus/?ref=header')\n",
    "cat_list.append('https://www.zulily.com/men/?ref=header')\n",
    "cat_list.append('https://www.zulily.com/shoes/?ref=header')\n",
    "cat_list.append('https://www.zulily.com/health-and-beauty/?ref=header')\n",
    "cat_list.append('https://www.zulily.com/baby-maternity/?ref=header')\n",
    "cat_list.append('https://www.zulily.com/toys-playtime/?ref=header')\n",
    "cat_list.append('https://www.zulily.com/home/?ref=header')"
   ]
  },
  {
   "cell_type": "code",
   "execution_count": null,
   "metadata": {},
   "outputs": [],
   "source": [
    "events_list = []\n",
    "\n",
    "for i in range(0,len(cat_list)):\n",
    "    br.visit(cat_list[i])\n",
    "    tree = html.fromstring(br.html)\n",
    "    temp_list = tree.xpath('//*[@id=\"home-page-content\"]/div/div/*/div/a/@href')\n",
    "    events_list = events_list + temp_list\n",
    "\n",
    "events_set=set(events_list)\n",
    "events_list = list(events_set)\n",
    "print len(events_list)"
   ]
  },
  {
   "cell_type": "code",
   "execution_count": null,
   "metadata": {},
   "outputs": [],
   "source": [
    "products_list = []\n",
    "for i in range(0, len(events_list)):\n",
    "    br.visit(events_list[i])\n",
    "    tree = html.fromstring(br.html)\n",
    "    temp_list = tree.xpath('//*[@id=\"products-list\"]/*/a/@href')\n",
    "    products_list = products_list + temp_list"
   ]
  },
  {
   "cell_type": "code",
   "execution_count": null,
   "metadata": {},
   "outputs": [],
   "source": [
    "product_set = set(products_list)\n",
    "product_list = list(product_set)"
   ]
  },
  {
   "cell_type": "code",
   "execution_count": null,
   "metadata": {},
   "outputs": [],
   "source": [
    "db = MySQLdb.connect(\"localhost\",\"root\",\"password\",\"zulily_crawls\")\n",
    "cursor = db.cursor()"
   ]
  },
  {
   "cell_type": "code",
   "execution_count": null,
   "metadata": {},
   "outputs": [],
   "source": [
    "product_names = []\n",
    "brands = []\n",
    "prices = []\n",
    "end_dates = []\n",
    "ship_times=[]\n",
    "for i in range(10,len(product_list)):\n",
    "    br.visit(product_list[i])\n",
    "    tree = html.fromstring(br.html)\n",
    "    temp_name = tree.xpath('//*[@id=\"product-info\"]/h1[1]/text()')\n",
    "    temp_brand = tree.xpath('//*[@id=\"brand-name\"]/span/text()')\n",
    "    temp_price = tree.xpath('//*[@id=\"product-price\"]/div/span/text()')\n",
    "    end_date = tree.xpath('//*[@id=\"end-date\"]/text()')\n",
    "    ship_time = tree.xpath('//*[@id=\"product-bullets\"]/li[2]/text()')\n",
    "    if len(temp_name) > 0:\n",
    "        temp_name = temp_name[1].strip()\n",
    "    else:\n",
    "        temp_name = 'empty'\n",
    "    if len(temp_brand) > 0:\n",
    "        temp_brand = temp_brand[0].strip()\n",
    "    else:\n",
    "        temp_brand = 'empty'\n",
    "    \n",
    "    if len(temp_price) > 0:\n",
    "        temp_price = temp_price[0].strip()\n",
    "    else: \n",
    "        temp_price = 'empty'\n",
    "    \n",
    "    if len(end_date) > 0:\n",
    "        end_date = end_date[0].strip()\n",
    "    else:\n",
    "        end_date= 'empty'\n",
    "    \n",
    "    if len(ship_time) > 0:\n",
    "        ship_time = ship_time[1].strip()\n",
    "    else:\n",
    "        ship_time = 'empty'\n",
    "        \n",
    "    sql = \"\"\"INSERT INTO ITEM_LIST(ID, \n",
    "        URL, PRODUCT, BRAND, PRICE, ENDDATE, SHIPTIME) \n",
    "        VALUES (%d, '%s', '%s', '%s', '%s', '%s', '%s' )\"\"\" % (i , product_list[i], temp_name, temp_brand, temp_price, end_date, ship_time)\n",
    "    try:\n",
    "        cursor.execute(sql)\n",
    "        db.commit()\n",
    "    except:\n",
    "        db.rollback()"
   ]
  },
  {
   "cell_type": "code",
   "execution_count": null,
   "metadata": {},
   "outputs": [],
   "source": []
  }
 ],
 "metadata": {
  "kernelspec": {
   "display_name": "Python 3",
   "language": "python",
   "name": "python3"
  },
  "language_info": {
   "codemirror_mode": {
    "name": "ipython",
    "version": 3
   },
   "file_extension": ".py",
   "mimetype": "text/x-python",
   "name": "python",
   "nbconvert_exporter": "python",
   "pygments_lexer": "ipython3",
   "version": "3.7.0"
  }
 },
 "nbformat": 4,
 "nbformat_minor": 2
}
